{
 "cells": [
  {
   "cell_type": "code",
   "execution_count": null,
   "id": "831e2b8f-139f-4964-9e3d-d3a6d6c70b51",
   "metadata": {},
   "outputs": [
    {
     "name": "stdout",
     "output_type": "stream",
     "text": [
      "Количество обнаруженных помидоров: 21\n"
     ]
    }
   ],
   "source": [
    "import cv2\n",
    "import numpy as np\n",
    "\n",
    "# Загрузка изображения\n",
    "image = cv2.imread('tomato.jpg')\n",
    "\n",
    "# Конвертация изображения из BGR в HSV\n",
    "hsv = cv2.cvtColor(image, cv2.COLOR_BGR2HSV)\n",
    "\n",
    "# Определение диапазона цвета (например, для красного цвета)\n",
    "lower_red = np.array([0, 50, 50])\n",
    "upper_red = np.array([0, 300, 300])\n",
    "\n",
    "# Создание маски для красного цвета\n",
    "mask = cv2.inRange(hsv, lower_red, upper_red)\n",
    "\n",
    "# Нахождение контуров объектов\n",
    "contours, _ = cv2.findContours(mask, cv2.RETR_EXTERNAL, cv2.CHAIN_APPROX_SIMPLE)\n",
    "\n",
    "# Отрисовка прямоугольников вокруг найденных контуров\n",
    "tomatoes_count = 0  # Переменная для хранения количества помидоров\n",
    "for contour in contours:\n",
    "    area = cv2.contourArea(contour)\n",
    "    if area > 100:  # Фильтрация по площади, чтобы исключить мелкие шумы\n",
    "        x, y, w, h = cv2.boundingRect(contour)\n",
    "        cv2.rectangle(image, (x, y), (x + w, y + h), (0, 255, 0), 2)\n",
    "        tomatoes_count += 1  # Увеличиваем счетчик каждый раз, когда обнаруживается помидор\n",
    "\n",
    "print(\"Количество обнаруженных помидоров:\", tomatoes_count)\n",
    "\n",
    "        \n",
    "        \n",
    "# Отображение изображения с обозначенными объектами определенного цвета\n",
    "cv2.imshow('Detected Objects', image)\n",
    "cv2.waitKey(0)\n",
    "cv2.destroyAllWindows()\n"
   ]
  },
  {
   "cell_type": "code",
   "execution_count": null,
   "id": "4a4f4a51-e33e-44ee-9021-aeec5304fdc9",
   "metadata": {},
   "outputs": [],
   "source": []
  }
 ],
 "metadata": {
  "kernelspec": {
   "display_name": "Python 3 (ipykernel)",
   "language": "python",
   "name": "python3"
  },
  "language_info": {
   "codemirror_mode": {
    "name": "ipython",
    "version": 3
   },
   "file_extension": ".py",
   "mimetype": "text/x-python",
   "name": "python",
   "nbconvert_exporter": "python",
   "pygments_lexer": "ipython3",
   "version": "3.9.12"
  }
 },
 "nbformat": 4,
 "nbformat_minor": 5
}
