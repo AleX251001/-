{
 "cells": [
  {
   "cell_type": "code",
   "execution_count": 1,
   "id": "bf18e6f3-ad3c-444e-bbf5-8cf307db57d5",
   "metadata": {},
   "outputs": [],
   "source": [
    "import cv2\n",
    "import numpy as np\n",
    "\n",
    "# Загрузка исходного и фрагментного изображений\n",
    "source_image = cv2.imread('11.jpg')\n",
    "fragment_image = cv2.imread('22.jpg')\n",
    "\n",
    "# Поиск соответствий между изображениями\n",
    "result = cv2.matchTemplate(source_image, fragment_image, cv2.TM_CCOEFF_NORMED)\n",
    "\n",
    "# Устанавливаем порог для определения совпадений\n",
    "threshold = 0.8\n",
    "locations = np.where(result >= threshold)\n",
    "\n",
    "# Рисуем прямоугольники вокруг совпадающих областей\n",
    "for loc in zip(*locations[::-1]):\n",
    "    cv2.rectangle(source_image, loc, (loc[0] + fragment_image.shape[1], loc[1] + fragment_image.shape[0]), (0, 255, 0), 2)\n",
    "\n",
    "# Вывод результата\n",
    "cv2.imshow('Matched Image', source_image)\n",
    "cv2.waitKey(0)\n",
    "cv2.destroyAllWindows()"
   ]
  },
  {
   "cell_type": "code",
   "execution_count": null,
   "id": "715c6e3c-e245-415b-8ac5-39684a5e7817",
   "metadata": {},
   "outputs": [],
   "source": []
  }
 ],
 "metadata": {
  "kernelspec": {
   "display_name": "Python 3 (ipykernel)",
   "language": "python",
   "name": "python3"
  },
  "language_info": {
   "codemirror_mode": {
    "name": "ipython",
    "version": 3
   },
   "file_extension": ".py",
   "mimetype": "text/x-python",
   "name": "python",
   "nbconvert_exporter": "python",
   "pygments_lexer": "ipython3",
   "version": "3.9.12"
  }
 },
 "nbformat": 4,
 "nbformat_minor": 5
}
