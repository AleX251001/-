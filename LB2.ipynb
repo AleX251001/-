{
 "cells": [
  {
   "cell_type": "code",
   "execution_count": null,
   "id": "c274c320-8168-463b-9193-439b635995c5",
   "metadata": {},
   "outputs": [],
   "source": [
    "import numpy as np\n",
    "import cv2 as cv\n",
    "import cv2\n",
    "%matplotlib inline\n",
    "import matplotlib.pyplot as plt\n",
    "\n",
    "\n",
    "# Загрузка изображения\n",
    "image = cv2.imread('2.jpg', cv2.IMREAD_GRAYSCALE)\n",
    "# Вычисление гистограммы изображения\n",
    "hist = np.zeros(256, dtype=int)\n",
    "for i in range(image.shape[0]):\n",
    "    for j in range(image.shape[1]):\n",
    "        intensity = image[i, j]\n",
    "        hist[intensity] += 1\n",
    "\n",
    "# Вычисление кумулятивной гистограммы\n",
    "cumulative_hist = np.zeros(256, dtype=int)\n",
    "cumulative_hist[0] = hist[0]\n",
    "for i in range(1, 256):\n",
    "    cumulative_hist[i] = cumulative_hist[i - 1] + hist[i]\n",
    "\n",
    "# Нахождение минимального ненулевого значения в кумулятивной гистограмме\n",
    "min_cumulative_hist = min(cumulative_hist[cumulative_hist > 0])\n",
    "\n",
    "# Преобразование значений интенсивности\n",
    "M, N = image.shape\n",
    "equalized_image = np.zeros((M, N), dtype=np.uint8)\n",
    "for i in range(M):\n",
    "    for j in range(N):\n",
    "        intensity = image[i, j]\n",
    "        equalized_intensity = ((cumulative_hist[intensity] - min_cumulative_hist) / (M * N - min_cumulative_hist)) * 255\n",
    "        equalized_image[i, j] = equalized_intensity\n",
    "\n",
    "# Сохранение результата\n",
    "cv2.imwrite('equalized_image.jpg', equalized_image)\n",
    "range = [0, 256]\n",
    "gs = plt.GridSpec(2, 2)\n",
    "plt.figure(figsize=(10, 8))\n",
    "plt.subplot(gs[0])\n",
    "plt.imshow(image,cmap=\"gray\")\n",
    "plt.subplot(gs[1])\n",
    "plt.imshow(equalized_image,cmap=\"gray\")\n",
    "plt.subplot(gs[2])\n",
    "plt.hist(image.reshape(-1), 256, range)\n",
    "plt.subplot(gs[3])\n",
    "plt.hist(equalized_image.reshape(-1), 256, range)\n",
    "plt.show()"
   ]
  },
  {
   "cell_type": "code",
   "execution_count": null,
   "id": "a2c0719e-5f42-4eae-aed8-b4ba70a79852",
   "metadata": {},
   "outputs": [],
   "source": []
  },
  {
   "cell_type": "code",
   "execution_count": null,
   "id": "9cdde924-065a-46eb-9bfc-f527887385d4",
   "metadata": {},
   "outputs": [],
   "source": []
  },
  {
   "cell_type": "code",
   "execution_count": null,
   "id": "23a9d551-bdef-499a-8db2-961c285bdd62",
   "metadata": {},
   "outputs": [],
   "source": []
  }
 ],
 "metadata": {
  "kernelspec": {
   "display_name": "Python 3 (ipykernel)",
   "language": "python",
   "name": "python3"
  },
  "language_info": {
   "codemirror_mode": {
    "name": "ipython",
    "version": 3
   },
   "file_extension": ".py",
   "mimetype": "text/x-python",
   "name": "python",
   "nbconvert_exporter": "python",
   "pygments_lexer": "ipython3",
   "version": "3.9.12"
  }
 },
 "nbformat": 4,
 "nbformat_minor": 5
}
